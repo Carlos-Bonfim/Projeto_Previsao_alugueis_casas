{
 "cells": [
  {
   "cell_type": "markdown",
   "metadata": {},
   "source": [
    "# Notebook 2\n",
    "# MACHINE LEARNING"
   ]
  },
  {
   "cell_type": "markdown",
   "metadata": {},
   "source": [
    "Após análise exploratória (EDA), farei os pré-processamento da mesma forma que o primeiro e testarei alguns modelos de Machine Learning."
   ]
  },
  {
   "cell_type": "markdown",
   "metadata": {},
   "source": [
    "# Importando o Dataset"
   ]
  },
  {
   "cell_type": "code",
   "execution_count": 35,
   "metadata": {},
   "outputs": [],
   "source": [
    "import pandas as pd\n",
    "import numpy as np\n",
    "import matplotlib.pyplot as plt\n",
    "import seaborn as sns\n",
    "%matplotlib inline\n",
    "\n",
    "from scipy.stats import skew, norm, probplot, boxcox\n",
    "\n",
    "from sklearn.model_selection import RandomizedSearchCV\n",
    "\n",
    "import re\n",
    "from sklearn.impute import SimpleImputer\n",
    "from sklearn.preprocessing import LabelEncoder\n",
    "\n",
    "from sklearn.model_selection import train_test_split\n",
    "from sklearn.linear_model import LinearRegression\n",
    "from sklearn.tree import DecisionTreeRegressor\n",
    "from sklearn.ensemble import RandomForestRegressor\n",
    "from lightgbm import LGBMRegressor\n",
    "\n",
    "from sklearn.metrics import mean_squared_error\n",
    "from sklearn.metrics import mean_absolute_error\n",
    "from sklearn.metrics import r2_score\n",
    "\n",
    "import warnings\n",
    "warnings.filterwarnings(\"ignore\")"
   ]
  },
  {
   "cell_type": "code",
   "execution_count": 2,
   "metadata": {},
   "outputs": [
    {
     "data": {
      "text/html": [
       "<div>\n",
       "<style scoped>\n",
       "    .dataframe tbody tr th:only-of-type {\n",
       "        vertical-align: middle;\n",
       "    }\n",
       "\n",
       "    .dataframe tbody tr th {\n",
       "        vertical-align: top;\n",
       "    }\n",
       "\n",
       "    .dataframe thead th {\n",
       "        text-align: right;\n",
       "    }\n",
       "</style>\n",
       "<table border=\"1\" class=\"dataframe\">\n",
       "  <thead>\n",
       "    <tr style=\"text-align: right;\">\n",
       "      <th></th>\n",
       "      <th>city</th>\n",
       "      <th>area</th>\n",
       "      <th>rooms</th>\n",
       "      <th>bathroom</th>\n",
       "      <th>parking spaces</th>\n",
       "      <th>floor</th>\n",
       "      <th>animal</th>\n",
       "      <th>furniture</th>\n",
       "      <th>hoa (R$)</th>\n",
       "      <th>rent amount (R$)</th>\n",
       "      <th>property tax (R$)</th>\n",
       "      <th>fire insurance (R$)</th>\n",
       "      <th>total (R$)</th>\n",
       "    </tr>\n",
       "  </thead>\n",
       "  <tbody>\n",
       "    <tr>\n",
       "      <td>0</td>\n",
       "      <td>São Paulo</td>\n",
       "      <td>70</td>\n",
       "      <td>2</td>\n",
       "      <td>1</td>\n",
       "      <td>1</td>\n",
       "      <td>7</td>\n",
       "      <td>acept</td>\n",
       "      <td>furnished</td>\n",
       "      <td>2065.0</td>\n",
       "      <td>3300</td>\n",
       "      <td>211</td>\n",
       "      <td>42.0</td>\n",
       "      <td>5618</td>\n",
       "    </tr>\n",
       "    <tr>\n",
       "      <td>1</td>\n",
       "      <td>São Paulo</td>\n",
       "      <td>320</td>\n",
       "      <td>4</td>\n",
       "      <td>4</td>\n",
       "      <td>0</td>\n",
       "      <td>20</td>\n",
       "      <td>acept</td>\n",
       "      <td>not furnished</td>\n",
       "      <td>1200.0</td>\n",
       "      <td>4960</td>\n",
       "      <td>1750</td>\n",
       "      <td>63.0</td>\n",
       "      <td>7973</td>\n",
       "    </tr>\n",
       "    <tr>\n",
       "      <td>2</td>\n",
       "      <td>Porto Alegre</td>\n",
       "      <td>80</td>\n",
       "      <td>1</td>\n",
       "      <td>1</td>\n",
       "      <td>1</td>\n",
       "      <td>6</td>\n",
       "      <td>acept</td>\n",
       "      <td>not furnished</td>\n",
       "      <td>1000.0</td>\n",
       "      <td>2800</td>\n",
       "      <td>0</td>\n",
       "      <td>41.0</td>\n",
       "      <td>3841</td>\n",
       "    </tr>\n",
       "    <tr>\n",
       "      <td>3</td>\n",
       "      <td>Porto Alegre</td>\n",
       "      <td>51</td>\n",
       "      <td>2</td>\n",
       "      <td>1</td>\n",
       "      <td>0</td>\n",
       "      <td>2</td>\n",
       "      <td>acept</td>\n",
       "      <td>not furnished</td>\n",
       "      <td>270.0</td>\n",
       "      <td>1112</td>\n",
       "      <td>22</td>\n",
       "      <td>17.0</td>\n",
       "      <td>1421</td>\n",
       "    </tr>\n",
       "    <tr>\n",
       "      <td>4</td>\n",
       "      <td>São Paulo</td>\n",
       "      <td>25</td>\n",
       "      <td>1</td>\n",
       "      <td>1</td>\n",
       "      <td>0</td>\n",
       "      <td>1</td>\n",
       "      <td>not acept</td>\n",
       "      <td>not furnished</td>\n",
       "      <td>0.0</td>\n",
       "      <td>800</td>\n",
       "      <td>25</td>\n",
       "      <td>11.0</td>\n",
       "      <td>836</td>\n",
       "    </tr>\n",
       "  </tbody>\n",
       "</table>\n",
       "</div>"
      ],
      "text/plain": [
       "           city  area  rooms  bathroom  parking spaces floor     animal  \\\n",
       "0     São Paulo    70      2         1               1     7      acept   \n",
       "1     São Paulo   320      4         4               0    20      acept   \n",
       "2  Porto Alegre    80      1         1               1     6      acept   \n",
       "3  Porto Alegre    51      2         1               0     2      acept   \n",
       "4     São Paulo    25      1         1               0     1  not acept   \n",
       "\n",
       "       furniture  hoa (R$)  rent amount (R$)  property tax (R$)  \\\n",
       "0      furnished    2065.0              3300                211   \n",
       "1  not furnished    1200.0              4960               1750   \n",
       "2  not furnished    1000.0              2800                  0   \n",
       "3  not furnished     270.0              1112                 22   \n",
       "4  not furnished       0.0               800                 25   \n",
       "\n",
       "   fire insurance (R$)  total (R$)  \n",
       "0                 42.0        5618  \n",
       "1                 63.0        7973  \n",
       "2                 41.0        3841  \n",
       "3                 17.0        1421  \n",
       "4                 11.0         836  "
      ]
     },
     "execution_count": 2,
     "metadata": {},
     "output_type": "execute_result"
    }
   ],
   "source": [
    "df = pd.read_excel('houses_to_rent_v2_Copia.xlsx')\n",
    "df.head()"
   ]
  },
  {
   "cell_type": "code",
   "execution_count": 3,
   "metadata": {},
   "outputs": [
    {
     "data": {
      "text/plain": [
       "Index(['city', 'area', 'rooms', 'bathroom', 'parking_spaces', 'floor',\n",
       "       'animal', 'furniture', 'hoa', 'rent_amount', 'property_tax',\n",
       "       'fire_insurance', 'total'],\n",
       "      dtype='object')"
      ]
     },
     "execution_count": 3,
     "metadata": {},
     "output_type": "execute_result"
    }
   ],
   "source": [
    "# removendo caracteres especiais e colocando '_' entre os espaços para facilitar a remoção do '(R$)'\n",
    "df.columns = df.columns.map(lambda x: re.sub(r'\\W+', '_', x))\n",
    "\n",
    "# substituindo nosso padrão por ''\n",
    "df.columns = df.columns.str.replace('_R_','')\n",
    "\n",
    "df.columns"
   ]
  },
  {
   "cell_type": "code",
   "execution_count": 4,
   "metadata": {},
   "outputs": [],
   "source": [
    "# separando em dois conjuntos de dados\n",
    "df_train, df_test = train_test_split(df, test_size=0.2, random_state=42)"
   ]
  },
  {
   "cell_type": "code",
   "execution_count": 5,
   "metadata": {},
   "outputs": [
    {
     "name": "stdout",
     "output_type": "stream",
     "text": [
      "<class 'pandas.core.frame.DataFrame'>\n",
      "Int64Index: 8553 entries, 6239 to 7270\n",
      "Data columns (total 13 columns):\n",
      "city              8553 non-null object\n",
      "area              8553 non-null int64\n",
      "rooms             8553 non-null int64\n",
      "bathroom          8553 non-null int64\n",
      "parking_spaces    8553 non-null int64\n",
      "floor             8553 non-null object\n",
      "animal            8499 non-null object\n",
      "furniture         8553 non-null object\n",
      "hoa               8505 non-null float64\n",
      "rent_amount       8553 non-null int64\n",
      "property_tax      8553 non-null int64\n",
      "fire_insurance    8499 non-null float64\n",
      "total             8553 non-null int64\n",
      "dtypes: float64(2), int64(7), object(4)\n",
      "memory usage: 935.5+ KB\n"
     ]
    }
   ],
   "source": [
    "df_train.info()"
   ]
  },
  {
   "cell_type": "code",
   "execution_count": 6,
   "metadata": {},
   "outputs": [
    {
     "data": {
      "text/plain": [
       "city               0\n",
       "area               0\n",
       "rooms              0\n",
       "bathroom           0\n",
       "parking_spaces     0\n",
       "floor              0\n",
       "animal            54\n",
       "furniture          0\n",
       "hoa               48\n",
       "rent_amount        0\n",
       "property_tax       0\n",
       "fire_insurance    54\n",
       "total              0\n",
       "dtype: int64"
      ]
     },
     "execution_count": 6,
     "metadata": {},
     "output_type": "execute_result"
    }
   ],
   "source": [
    "df_train.isnull().sum()"
   ]
  },
  {
   "cell_type": "markdown",
   "metadata": {},
   "source": [
    "Identificado alguns valores missing"
   ]
  },
  {
   "cell_type": "markdown",
   "metadata": {},
   "source": [
    "# Tratando dados missing"
   ]
  },
  {
   "cell_type": "code",
   "execution_count": 7,
   "metadata": {},
   "outputs": [
    {
     "data": {
      "text/plain": [
       "acept        8262\n",
       "not acept    2360\n",
       "NaN            70\n",
       "Name: animal, dtype: int64"
      ]
     },
     "execution_count": 7,
     "metadata": {},
     "output_type": "execute_result"
    }
   ],
   "source": [
    "# começando pela coluna animal\n",
    "df.animal.value_counts(dropna=False)"
   ]
  },
  {
   "cell_type": "code",
   "execution_count": 8,
   "metadata": {},
   "outputs": [
    {
     "data": {
      "text/plain": [
       "city            animal   \n",
       "Belo Horizonte  acept         767\n",
       "                not acept     270\n",
       "                NaN             3\n",
       "Campinas        acept         546\n",
       "                not acept     124\n",
       "                NaN             2\n",
       "Porto Alegre    acept         798\n",
       "                not acept     141\n",
       "                NaN             5\n",
       "Rio de Janeiro  acept         952\n",
       "                not acept     237\n",
       "                NaN            12\n",
       "São Paulo       acept        3540\n",
       "                not acept    1124\n",
       "                NaN            32\n",
       "Name: animal, dtype: int64"
      ]
     },
     "execution_count": 8,
     "metadata": {},
     "output_type": "execute_result"
    }
   ],
   "source": [
    "# vou pegar a cidade como minha referência e vou agrupar\n",
    "# para saber, qual a proporção de dados missing por cidade\n",
    "df_train.groupby(['city'])['animal'].value_counts(dropna=False)"
   ]
  },
  {
   "cell_type": "markdown",
   "metadata": {},
   "source": [
    "No caso da coluna \"animal\" não terem muitos dados faltantes, optei em substituir pelo valor mais frequente por cidade"
   ]
  },
  {
   "cell_type": "code",
   "execution_count": 9,
   "metadata": {},
   "outputs": [],
   "source": [
    "# como cidade é minha referência\n",
    "# vou criar uma lista para passar em um loop\n",
    "cidades = df_train.city.unique()\n",
    "\n",
    "# usando \"Imputation\" do sklearn para substituir pelo valor mais frequente\n",
    "imp_animal = SimpleImputer(strategy='most_frequent')\n",
    "\n",
    "for i in cidades:\n",
    "\n",
    "    imp_animal.fit(np.array(df_train[df_train.city==i]['animal']).reshape(-1,1))\n",
    "\n",
    "    df_train.loc[df_train.city==i, 'animal'] = imp_animal.transform(np.array(df_train[df_train.city==i]['animal']).reshape(-1,1))"
   ]
  },
  {
   "cell_type": "code",
   "execution_count": 10,
   "metadata": {},
   "outputs": [
    {
     "data": {
      "text/plain": [
       "city            animal   \n",
       "Belo Horizonte  acept         770\n",
       "                not acept     270\n",
       "Campinas        acept         548\n",
       "                not acept     124\n",
       "Porto Alegre    acept         803\n",
       "                not acept     141\n",
       "Rio de Janeiro  acept         964\n",
       "                not acept     237\n",
       "São Paulo       acept        3572\n",
       "                not acept    1124\n",
       "Name: animal, dtype: int64"
      ]
     },
     "execution_count": 10,
     "metadata": {},
     "output_type": "execute_result"
    }
   ],
   "source": [
    "# conferindo o resultado\n",
    "df_train.groupby(['city'])['animal'].value_counts(dropna=False)"
   ]
  },
  {
   "cell_type": "code",
   "execution_count": 11,
   "metadata": {},
   "outputs": [
    {
     "data": {
      "text/html": [
       "<div>\n",
       "<style scoped>\n",
       "    .dataframe tbody tr th:only-of-type {\n",
       "        vertical-align: middle;\n",
       "    }\n",
       "\n",
       "    .dataframe tbody tr th {\n",
       "        vertical-align: top;\n",
       "    }\n",
       "\n",
       "    .dataframe thead th {\n",
       "        text-align: right;\n",
       "    }\n",
       "</style>\n",
       "<table border=\"1\" class=\"dataframe\">\n",
       "  <thead>\n",
       "    <tr style=\"text-align: right;\">\n",
       "      <th></th>\n",
       "      <th>count</th>\n",
       "      <th>mean</th>\n",
       "      <th>std</th>\n",
       "      <th>min</th>\n",
       "      <th>25%</th>\n",
       "      <th>50%</th>\n",
       "      <th>75%</th>\n",
       "      <th>max</th>\n",
       "    </tr>\n",
       "  </thead>\n",
       "  <tbody>\n",
       "    <tr>\n",
       "      <td>hoa</td>\n",
       "      <td>8505.0</td>\n",
       "      <td>1244.73980</td>\n",
       "      <td>17473.047438</td>\n",
       "      <td>0.0</td>\n",
       "      <td>160.0</td>\n",
       "      <td>560.0</td>\n",
       "      <td>1250.0</td>\n",
       "      <td>1117000.0</td>\n",
       "    </tr>\n",
       "    <tr>\n",
       "      <td>fire_insurance</td>\n",
       "      <td>8499.0</td>\n",
       "      <td>53.58101</td>\n",
       "      <td>48.122362</td>\n",
       "      <td>3.0</td>\n",
       "      <td>21.0</td>\n",
       "      <td>36.0</td>\n",
       "      <td>68.0</td>\n",
       "      <td>677.0</td>\n",
       "    </tr>\n",
       "  </tbody>\n",
       "</table>\n",
       "</div>"
      ],
      "text/plain": [
       "                 count        mean           std  min    25%    50%     75%  \\\n",
       "hoa             8505.0  1244.73980  17473.047438  0.0  160.0  560.0  1250.0   \n",
       "fire_insurance  8499.0    53.58101     48.122362  3.0   21.0   36.0    68.0   \n",
       "\n",
       "                      max  \n",
       "hoa             1117000.0  \n",
       "fire_insurance      677.0  "
      ]
     },
     "execution_count": 11,
     "metadata": {},
     "output_type": "execute_result"
    }
   ],
   "source": [
    "# checando os dados da coluna \"hoa\" e \"fire_insurance\" que são do tipo \"float\"\n",
    "df_train.describe()[['hoa','fire_insurance']].T"
   ]
  },
  {
   "cell_type": "markdown",
   "metadata": {},
   "source": [
    "Analisando os valores, observamos outliers nos dois conjuntos. Inicialmente adorarei a seguinte estratégia:\n",
    "- para a **hoa** vou imputar os valores da **mediana**.\n",
    "- para o **fire_insurance** vou imputar os valores da **média**.\n",
    "\n",
    "Acredito que os valores de condomínio e seguro são de acordo com as cidade, depois vou tentar validar esta hipótese."
   ]
  },
  {
   "cell_type": "code",
   "execution_count": 12,
   "metadata": {},
   "outputs": [],
   "source": [
    "imp_hoa = SimpleImputer(strategy='median')\n",
    "\n",
    "for i in cidades:\n",
    "\n",
    "    imp_hoa.fit(np.array(df_train[df_train.city==i]['hoa']).reshape(-1,1))\n",
    "\n",
    "    df_train.loc[df_train.city==i, 'hoa'] = imp_hoa.transform(np.array(df_train[df_train.city==i]['hoa']).reshape(-1,1))"
   ]
  },
  {
   "cell_type": "code",
   "execution_count": 13,
   "metadata": {},
   "outputs": [],
   "source": [
    "imp_fireInsur = SimpleImputer(strategy='mean')\n",
    "\n",
    "for i in cidades:\n",
    "\n",
    "    imp_fireInsur.fit(np.array(df_train[df_train.city==i]['fire_insurance']).reshape(-1,1))\n",
    "\n",
    "    df_train.loc[df_train.city==i, 'fire_insurance'] = imp_fireInsur.transform(np.array(df_train[df_train.city==i]['fire_insurance']).reshape(-1,1))"
   ]
  },
  {
   "cell_type": "code",
   "execution_count": 14,
   "metadata": {},
   "outputs": [
    {
     "data": {
      "text/plain": [
       "city              0\n",
       "area              0\n",
       "rooms             0\n",
       "bathroom          0\n",
       "parking_spaces    0\n",
       "floor             0\n",
       "animal            0\n",
       "furniture         0\n",
       "hoa               0\n",
       "rent_amount       0\n",
       "property_tax      0\n",
       "fire_insurance    0\n",
       "total             0\n",
       "dtype: int64"
      ]
     },
     "execution_count": 14,
     "metadata": {},
     "output_type": "execute_result"
    }
   ],
   "source": [
    "# checando se todos os dados foram preenchidos:\n",
    "df_train.isnull().sum()"
   ]
  },
  {
   "cell_type": "code",
   "execution_count": 15,
   "metadata": {},
   "outputs": [
    {
     "data": {
      "text/html": [
       "<div>\n",
       "<style scoped>\n",
       "    .dataframe tbody tr th:only-of-type {\n",
       "        vertical-align: middle;\n",
       "    }\n",
       "\n",
       "    .dataframe tbody tr th {\n",
       "        vertical-align: top;\n",
       "    }\n",
       "\n",
       "    .dataframe thead th {\n",
       "        text-align: right;\n",
       "    }\n",
       "</style>\n",
       "<table border=\"1\" class=\"dataframe\">\n",
       "  <thead>\n",
       "    <tr style=\"text-align: right;\">\n",
       "      <th></th>\n",
       "      <th>city</th>\n",
       "      <th>floor</th>\n",
       "      <th>animal</th>\n",
       "      <th>furniture</th>\n",
       "    </tr>\n",
       "  </thead>\n",
       "  <tbody>\n",
       "    <tr>\n",
       "      <td>6239</td>\n",
       "      <td>São Paulo</td>\n",
       "      <td>19</td>\n",
       "      <td>acept</td>\n",
       "      <td>furnished</td>\n",
       "    </tr>\n",
       "    <tr>\n",
       "      <td>9805</td>\n",
       "      <td>São Paulo</td>\n",
       "      <td>-</td>\n",
       "      <td>acept</td>\n",
       "      <td>not furnished</td>\n",
       "    </tr>\n",
       "    <tr>\n",
       "      <td>10314</td>\n",
       "      <td>Campinas</td>\n",
       "      <td>6</td>\n",
       "      <td>acept</td>\n",
       "      <td>not furnished</td>\n",
       "    </tr>\n",
       "    <tr>\n",
       "      <td>10072</td>\n",
       "      <td>Porto Alegre</td>\n",
       "      <td>1</td>\n",
       "      <td>acept</td>\n",
       "      <td>furnished</td>\n",
       "    </tr>\n",
       "    <tr>\n",
       "      <td>3026</td>\n",
       "      <td>São Paulo</td>\n",
       "      <td>12</td>\n",
       "      <td>acept</td>\n",
       "      <td>not furnished</td>\n",
       "    </tr>\n",
       "    <tr>\n",
       "      <td>...</td>\n",
       "      <td>...</td>\n",
       "      <td>...</td>\n",
       "      <td>...</td>\n",
       "      <td>...</td>\n",
       "    </tr>\n",
       "    <tr>\n",
       "      <td>5734</td>\n",
       "      <td>São Paulo</td>\n",
       "      <td>1</td>\n",
       "      <td>not acept</td>\n",
       "      <td>furnished</td>\n",
       "    </tr>\n",
       "    <tr>\n",
       "      <td>5191</td>\n",
       "      <td>São Paulo</td>\n",
       "      <td>1</td>\n",
       "      <td>not acept</td>\n",
       "      <td>not furnished</td>\n",
       "    </tr>\n",
       "    <tr>\n",
       "      <td>5390</td>\n",
       "      <td>Rio de Janeiro</td>\n",
       "      <td>11</td>\n",
       "      <td>acept</td>\n",
       "      <td>furnished</td>\n",
       "    </tr>\n",
       "    <tr>\n",
       "      <td>860</td>\n",
       "      <td>São Paulo</td>\n",
       "      <td>5</td>\n",
       "      <td>not acept</td>\n",
       "      <td>furnished</td>\n",
       "    </tr>\n",
       "    <tr>\n",
       "      <td>7270</td>\n",
       "      <td>São Paulo</td>\n",
       "      <td>5</td>\n",
       "      <td>not acept</td>\n",
       "      <td>not furnished</td>\n",
       "    </tr>\n",
       "  </tbody>\n",
       "</table>\n",
       "<p>8553 rows × 4 columns</p>\n",
       "</div>"
      ],
      "text/plain": [
       "                 city floor     animal      furniture\n",
       "6239        São Paulo    19      acept      furnished\n",
       "9805        São Paulo     -      acept  not furnished\n",
       "10314        Campinas     6      acept  not furnished\n",
       "10072    Porto Alegre     1      acept      furnished\n",
       "3026        São Paulo    12      acept  not furnished\n",
       "...               ...   ...        ...            ...\n",
       "5734        São Paulo     1  not acept      furnished\n",
       "5191        São Paulo     1  not acept  not furnished\n",
       "5390   Rio de Janeiro    11      acept      furnished\n",
       "860         São Paulo     5  not acept      furnished\n",
       "7270        São Paulo     5  not acept  not furnished\n",
       "\n",
       "[8553 rows x 4 columns]"
      ]
     },
     "execution_count": 15,
     "metadata": {},
     "output_type": "execute_result"
    }
   ],
   "source": [
    "# olhando o tipo das features\n",
    "df_train.select_dtypes(include='object')"
   ]
  },
  {
   "cell_type": "code",
   "execution_count": 16,
   "metadata": {},
   "outputs": [],
   "source": [
    "# a feature \"floor\" já está no formato, porém está como 'str' por causa de um '-'\n",
    "# vou alterar o '-' para 0\n",
    "\n",
    "df_train.floor = df_train.floor.replace('-',0)"
   ]
  },
  {
   "cell_type": "markdown",
   "metadata": {},
   "source": [
    "Agora sim, podemos responder às perguntas iniciais"
   ]
  },
  {
   "cell_type": "code",
   "execution_count": 17,
   "metadata": {},
   "outputs": [
    {
     "data": {
      "text/plain": [
       "Index(['city', 'animal', 'furniture'], dtype='object')"
      ]
     },
     "execution_count": 17,
     "metadata": {},
     "output_type": "execute_result"
    }
   ],
   "source": [
    "# selecionando as variáveis categóricas\n",
    "df_train.select_dtypes(['object']).columns"
   ]
  },
  {
   "cell_type": "code",
   "execution_count": 18,
   "metadata": {},
   "outputs": [],
   "source": [
    "# para a primeira feature vou utilizar o label encoder\n",
    "# instanciando a LabelEncoder\n",
    "le = LabelEncoder()\n",
    "\n",
    "le.fit(df_train.city)\n",
    "\n",
    "df_train['city'] = le.transform(df_train.city)"
   ]
  },
  {
   "cell_type": "code",
   "execution_count": 19,
   "metadata": {},
   "outputs": [],
   "source": [
    "# nesse caso vou fazer algo mais simples\n",
    "df_train['animal'] = df_train.animal.map({'acept':1, 'not acept':0})\n",
    "df_train['furniture'] = df_train.furniture.map({'furnished':1, 'not furnished':0})"
   ]
  },
  {
   "cell_type": "code",
   "execution_count": 20,
   "metadata": {},
   "outputs": [
    {
     "data": {
      "text/html": [
       "<div>\n",
       "<style scoped>\n",
       "    .dataframe tbody tr th:only-of-type {\n",
       "        vertical-align: middle;\n",
       "    }\n",
       "\n",
       "    .dataframe tbody tr th {\n",
       "        vertical-align: top;\n",
       "    }\n",
       "\n",
       "    .dataframe thead th {\n",
       "        text-align: right;\n",
       "    }\n",
       "</style>\n",
       "<table border=\"1\" class=\"dataframe\">\n",
       "  <thead>\n",
       "    <tr style=\"text-align: right;\">\n",
       "      <th></th>\n",
       "      <th>city</th>\n",
       "      <th>area</th>\n",
       "      <th>rooms</th>\n",
       "      <th>bathroom</th>\n",
       "      <th>parking_spaces</th>\n",
       "      <th>floor</th>\n",
       "      <th>animal</th>\n",
       "      <th>furniture</th>\n",
       "      <th>hoa</th>\n",
       "      <th>rent_amount</th>\n",
       "      <th>property_tax</th>\n",
       "      <th>fire_insurance</th>\n",
       "      <th>total</th>\n",
       "    </tr>\n",
       "  </thead>\n",
       "  <tbody>\n",
       "    <tr>\n",
       "      <td>6239</td>\n",
       "      <td>4</td>\n",
       "      <td>200</td>\n",
       "      <td>3</td>\n",
       "      <td>4</td>\n",
       "      <td>3</td>\n",
       "      <td>19</td>\n",
       "      <td>1</td>\n",
       "      <td>1</td>\n",
       "      <td>2247.0</td>\n",
       "      <td>8500</td>\n",
       "      <td>1000</td>\n",
       "      <td>33.0</td>\n",
       "      <td>11780</td>\n",
       "    </tr>\n",
       "    <tr>\n",
       "      <td>9805</td>\n",
       "      <td>4</td>\n",
       "      <td>225</td>\n",
       "      <td>3</td>\n",
       "      <td>2</td>\n",
       "      <td>2</td>\n",
       "      <td>0</td>\n",
       "      <td>1</td>\n",
       "      <td>0</td>\n",
       "      <td>0.0</td>\n",
       "      <td>2300</td>\n",
       "      <td>209</td>\n",
       "      <td>35.0</td>\n",
       "      <td>2544</td>\n",
       "    </tr>\n",
       "    <tr>\n",
       "      <td>10314</td>\n",
       "      <td>1</td>\n",
       "      <td>53</td>\n",
       "      <td>1</td>\n",
       "      <td>1</td>\n",
       "      <td>0</td>\n",
       "      <td>6</td>\n",
       "      <td>1</td>\n",
       "      <td>0</td>\n",
       "      <td>403.0</td>\n",
       "      <td>500</td>\n",
       "      <td>15</td>\n",
       "      <td>7.0</td>\n",
       "      <td>925</td>\n",
       "    </tr>\n",
       "    <tr>\n",
       "      <td>10072</td>\n",
       "      <td>2</td>\n",
       "      <td>42</td>\n",
       "      <td>1</td>\n",
       "      <td>1</td>\n",
       "      <td>1</td>\n",
       "      <td>1</td>\n",
       "      <td>1</td>\n",
       "      <td>1</td>\n",
       "      <td>650.0</td>\n",
       "      <td>2400</td>\n",
       "      <td>81</td>\n",
       "      <td>36.0</td>\n",
       "      <td>3167</td>\n",
       "    </tr>\n",
       "    <tr>\n",
       "      <td>3026</td>\n",
       "      <td>4</td>\n",
       "      <td>101</td>\n",
       "      <td>2</td>\n",
       "      <td>2</td>\n",
       "      <td>1</td>\n",
       "      <td>12</td>\n",
       "      <td>1</td>\n",
       "      <td>0</td>\n",
       "      <td>582.0</td>\n",
       "      <td>1700</td>\n",
       "      <td>0</td>\n",
       "      <td>22.0</td>\n",
       "      <td>2304</td>\n",
       "    </tr>\n",
       "  </tbody>\n",
       "</table>\n",
       "</div>"
      ],
      "text/plain": [
       "       city  area  rooms  bathroom  parking_spaces  floor  animal  furniture  \\\n",
       "6239      4   200      3         4               3     19       1          1   \n",
       "9805      4   225      3         2               2      0       1          0   \n",
       "10314     1    53      1         1               0      6       1          0   \n",
       "10072     2    42      1         1               1      1       1          1   \n",
       "3026      4   101      2         2               1     12       1          0   \n",
       "\n",
       "          hoa  rent_amount  property_tax  fire_insurance  total  \n",
       "6239   2247.0         8500          1000            33.0  11780  \n",
       "9805      0.0         2300           209            35.0   2544  \n",
       "10314   403.0          500            15             7.0    925  \n",
       "10072   650.0         2400            81            36.0   3167  \n",
       "3026    582.0         1700             0            22.0   2304  "
      ]
     },
     "execution_count": 20,
     "metadata": {},
     "output_type": "execute_result"
    }
   ],
   "source": [
    "df_train.head()"
   ]
  },
  {
   "cell_type": "code",
   "execution_count": 21,
   "metadata": {},
   "outputs": [
    {
     "data": {
      "text/plain": [
       "((array([-3.77179675, -3.54446387, -3.41955413, ...,  3.41955413,\n",
       "          3.54446387,  3.77179675]),\n",
       "  array([  450,   460,   500, ..., 25000, 30000, 45000], dtype=int64)),\n",
       " (3058.609833864335, 3916.4778440313335, 0.8916273640830679))"
      ]
     },
     "execution_count": 21,
     "metadata": {},
     "output_type": "execute_result"
    },
    {
     "data": {
      "image/png": "[encoded data removed]",
      "text/plain": [
       "<Figure size 864x720 with 2 Axes>"
      ]
     },
     "metadata": {
      "needs_background": "light"
     },
     "output_type": "display_data"
    }
   ],
   "source": [
    "fig = plt.figure(figsize=(12,10))\n",
    "sns.set(font_scale=1.2)\n",
    "\n",
    "fig1 = fig.add_subplot(221)\n",
    "sns.distplot(df_train['rent_amount'], bins=10)\n",
    "\n",
    "fig2 = fig.add_subplot(222)\n",
    "probplot(df_train['rent_amount'], plot=fig2)"
   ]
  },
  {
   "cell_type": "markdown",
   "metadata": {},
   "source": [
    "Aplicando a normalização com a função np.log1p"
   ]
  },
  {
   "cell_type": "code",
   "execution_count": 22,
   "metadata": {},
   "outputs": [
    {
     "data": {
      "text/plain": [
       "((array([-3.77179675, -3.54446387, -3.41955413, ...,  3.41955413,\n",
       "          3.54446387,  3.77179675]),\n",
       "  array([ 6.11146734,  6.13339804,  6.2166061 , ..., 10.1266711 ,\n",
       "         10.30898599, 10.71443999])),\n",
       " (0.7853863236404341, 7.952972268253242, 0.9913421720895685))"
      ]
     },
     "execution_count": 22,
     "metadata": {},
     "output_type": "execute_result"
    },
    {
     "data": {
      "image/png": "[encoded data removed]",
      "text/plain": [
       "<Figure size 864x720 with 2 Axes>"
      ]
     },
     "metadata": {},
     "output_type": "display_data"
    }
   ],
   "source": [
    "df_train['rent_amount'] = np.log1p(df_train.rent_amount)\n",
    "\n",
    "fig = plt.figure(figsize=(12,10))\n",
    "sns.set(font_scale=1.2)\n",
    "\n",
    "fig1 = fig.add_subplot(221)\n",
    "sns.distplot(df_train['rent_amount'], bins=10)\n",
    "\n",
    "fig2 = fig.add_subplot(222)\n",
    "probplot(df_train['rent_amount'], plot=fig2)"
   ]
  },
  {
   "cell_type": "markdown",
   "metadata": {},
   "source": [
    "# Machine Learning"
   ]
  },
  {
   "cell_type": "markdown",
   "metadata": {},
   "source": [
    "## Prevendo o valor do alguel"
   ]
  },
  {
   "cell_type": "code",
   "execution_count": 23,
   "metadata": {},
   "outputs": [],
   "source": [
    "# X = df_train[['property_tax', 'fire_insurance']]\n",
    "# y = df_train['rent_amount']"
   ]
  },
  {
   "cell_type": "code",
   "execution_count": 24,
   "metadata": {},
   "outputs": [],
   "source": [
    "# vou tirar a feature \"total\" pois acredito não ser uma variável preditiva, uma vez que o total geral\n",
    "# incluindo nossa variável target\n",
    "\n",
    "# separando X e y\n",
    "X = df_train.drop(['rent_amount', 'total'], axis=1)\n",
    "y = df_train['rent_amount']"
   ]
  },
  {
   "cell_type": "code",
   "execution_count": 25,
   "metadata": {},
   "outputs": [],
   "source": [
    "X_train, X_valid, y_train, y_valid = train_test_split(X, y, test_size=0.5, random_state=42)"
   ]
  },
  {
   "cell_type": "code",
   "execution_count": 26,
   "metadata": {},
   "outputs": [
    {
     "name": "stdout",
     "output_type": "stream",
     "text": [
      "(4276, 11) (4276,) (4277, 11) (4277,)\n"
     ]
    }
   ],
   "source": [
    "# property_tax e fire_insurance correlacionam fortemente com a variável target\n",
    "print(X_train.shape, y_train.shape, X_valid.shape, y_valid.shape)"
   ]
  },
  {
   "cell_type": "code",
   "execution_count": 27,
   "metadata": {},
   "outputs": [
    {
     "name": "stdout",
     "output_type": "stream",
     "text": [
      "-------------------------------------\n",
      "Linear Regression:\n",
      "MAE: 0.23891909238790368\n",
      "RMSE: 0.22157112769789494\n",
      "R^2: 0.6482873892509466\n",
      "-------------------------------------\n",
      "Decision Tree:\n",
      "MAE: 0.03768826420836005\n",
      "RMSE: 0.017170980952521318\n",
      "R^2: 0.9727435130981151\n",
      "-------------------------------------\n",
      "Random Forest:\n",
      "MAE: 0.03115782135100562\n",
      "RMSE: 0.0076096526601668255\n",
      "R^2: 0.9879207601107218\n",
      "-------------------------------------\n",
      "LightGBM:\n",
      "MAE: 0.04308376075397287\n",
      "RMSE: 0.008273689534165714\n",
      "R^2: 0.9868666961403194\n"
     ]
    }
   ],
   "source": [
    "seed=42\n",
    "\n",
    "# instanciando os modelos\n",
    "lr = LinearRegression(normalize=True)\n",
    "dtr = DecisionTreeRegressor(random_state=seed)\n",
    "rfr = RandomForestRegressor(n_estimators=1000, min_samples_leaf=2, random_state=seed)\n",
    "lgbm = LGBMRegressor(n_estimators=1000, random_state=seed)\n",
    "\n",
    "# agrupando os modelos\n",
    "model_list = ((lr, 'Linear Regression'),\n",
    "              (dtr, 'Decision Tree'),\n",
    "              (rfr, 'Random Forest'),\n",
    "              (lgbm, 'LightGBM'))\n",
    "\n",
    "for model, name in model_list:\n",
    "    model.fit(X_train, y_train)\n",
    "    y_pred = model.predict(X_valid)\n",
    "    print('-------------------------------------')\n",
    "    print(f'{name}:')\n",
    "    print(f'MAE: {mean_absolute_error(y_valid, y_pred)}')\n",
    "    print(f'RMSE: {mean_squared_error(y_valid, y_pred)}')\n",
    "    print(f'R^2: {r2_score(y_valid, y_pred)}')"
   ]
  },
  {
   "cell_type": "markdown",
   "metadata": {},
   "source": [
    "Depois da variável target normalizada, todos os modelos performaram bem, vou escolher o Forest para mais testes, pois foi o modelo com as melhores métricas."
   ]
  },
  {
   "cell_type": "markdown",
   "metadata": {},
   "source": [
    "# Tunning dos hiperparâmetros"
   ]
  },
  {
   "cell_type": "code",
   "execution_count": 38,
   "metadata": {},
   "outputs": [
    {
     "name": "stdout",
     "output_type": "stream",
     "text": [
      "Parâmetros atuais em uso:\n",
      "\n",
      "{'bootstrap': True,\n",
      " 'ccp_alpha': 0.0,\n",
      " 'criterion': 'mse',\n",
      " 'max_depth': None,\n",
      " 'max_features': 'auto',\n",
      " 'max_leaf_nodes': None,\n",
      " 'max_samples': None,\n",
      " 'min_impurity_decrease': 0.0,\n",
      " 'min_impurity_split': None,\n",
      " 'min_samples_leaf': 2,\n",
      " 'min_samples_split': 2,\n",
      " 'min_weight_fraction_leaf': 0.0,\n",
      " 'n_estimators': 1000,\n",
      " 'n_jobs': None,\n",
      " 'oob_score': False,\n",
      " 'random_state': 42,\n",
      " 'verbose': 0,\n",
      " 'warm_start': False}\n"
     ]
    }
   ],
   "source": [
    "from pprint import pprint\n",
    "\n",
    "# olhando os parâmetros atuais\n",
    "print('Parâmetros atuais em uso:\\n')\n",
    "pprint(rfr.get_params())"
   ]
  },
  {
   "cell_type": "code",
   "execution_count": 56,
   "metadata": {},
   "outputs": [
    {
     "name": "stdout",
     "output_type": "stream",
     "text": [
      "{'bootstrap': [True, False],\n",
      " 'max_features': ['auto', 'sqrt'],\n",
      " 'min_samples_leaf': [1, 2, 4],\n",
      " 'min_samples_split': [2, 5, 10],\n",
      " 'n_estimators': [100, 500, 1000]}\n"
     ]
    }
   ],
   "source": [
    "# definindo a lista para testar os hiperparâmetros\n",
    "\n",
    "# número de árvores na floresta\n",
    "n_estimators = [100, 500, 1000]\n",
    "\n",
    "# número máximo de features para separar o nó\n",
    "max_features = ['auto', 'sqrt']\n",
    "\n",
    "# número máximo de níveis na árvore\n",
    "# max_depth = [1, 2, None]\n",
    "\n",
    "# número mínimo no nó antes de separar\n",
    "min_samples_split = [2, 5, 10]\n",
    "\n",
    "# número mínimo de dados permitidos no nó\n",
    "min_samples_leaf = [1, 2, 4]\n",
    "\n",
    "# método para reamostragem (com ou sem substituição)\n",
    "bootstrap = [True, False]\n",
    "\n",
    "\n",
    "# criando a grade aleatória\n",
    "\n",
    "random_grid = {'n_estimators': n_estimators,\n",
    "               'max_features': max_features,\n",
    "               'min_samples_split': min_samples_split,\n",
    "               'min_samples_leaf': min_samples_leaf,\n",
    "               'bootstrap': bootstrap}\n",
    "\n",
    "pprint(random_grid)"
   ]
  },
  {
   "cell_type": "code",
   "execution_count": 57,
   "metadata": {},
   "outputs": [
    {
     "name": "stdout",
     "output_type": "stream",
     "text": [
      "Se usássemos o GridSearchCV com todas as combinações possíveis, teríamos: 432 iterações\n"
     ]
    }
   ],
   "source": [
    "print(f'Se usássemos o GridSearchCV com todas as combinações possíveis, teríamos: {2*4*2*3*3*3} iterações')"
   ]
  },
  {
   "cell_type": "code",
   "execution_count": 58,
   "metadata": {},
   "outputs": [
    {
     "name": "stdout",
     "output_type": "stream",
     "text": [
      "Fitting 10 folds for each of 100 candidates, totalling 1000 fits\n"
     ]
    },
    {
     "name": "stderr",
     "output_type": "stream",
     "text": [
      "[Parallel(n_jobs=-1)]: Using backend LokyBackend with 4 concurrent workers.\n",
      "[Parallel(n_jobs=-1)]: Done  33 tasks      | elapsed:  6.5min\n",
      "[Parallel(n_jobs=-1)]: Done 154 tasks      | elapsed: 21.2min\n",
      "[Parallel(n_jobs=-1)]: Done 357 tasks      | elapsed: 40.2min\n",
      "[Parallel(n_jobs=-1)]: Done 640 tasks      | elapsed: 64.5min\n",
      "[Parallel(n_jobs=-1)]: Done 1000 out of 1000 | elapsed: 96.7min finished\n"
     ]
    },
    {
     "data": {
      "text/plain": [
       "RandomizedSearchCV(cv=10, error_score=nan,\n",
       "                   estimator=RandomForestRegressor(bootstrap=True,\n",
       "                                                   ccp_alpha=0.0,\n",
       "                                                   criterion='mse',\n",
       "                                                   max_depth=None,\n",
       "                                                   max_features='auto',\n",
       "                                                   max_leaf_nodes=None,\n",
       "                                                   max_samples=None,\n",
       "                                                   min_impurity_decrease=0.0,\n",
       "                                                   min_impurity_split=None,\n",
       "                                                   min_samples_leaf=1,\n",
       "                                                   min_samples_split=2,\n",
       "                                                   min_weight_fraction_leaf=0.0,\n",
       "                                                   n_estimators=100,\n",
       "                                                   n_jobs=None, oob_score=False,\n",
       "                                                   random_state=None, verbose=0,\n",
       "                                                   warm_start=False),\n",
       "                   iid='deprecated', n_iter=100, n_jobs=-1,\n",
       "                   param_distributions={'bootstrap': [True, False],\n",
       "                                        'max_features': ['auto', 'sqrt'],\n",
       "                                        'min_samples_leaf': [1, 2, 4],\n",
       "                                        'min_samples_split': [2, 5, 10],\n",
       "                                        'n_estimators': [100, 500, 1000]},\n",
       "                   pre_dispatch='2*n_jobs', random_state=42, refit=True,\n",
       "                   return_train_score=False, scoring=None, verbose=2)"
      ]
     },
     "execution_count": 58,
     "metadata": {},
     "output_type": "execute_result"
    }
   ],
   "source": [
    "# usando o random grid para encontrar os melhores hiperparâmetros\n",
    "\n",
    "# instanciando o modelo\n",
    "rf = RandomForestRegressor()\n",
    "\n",
    "# procurar 100 iterações com 10 fold cross validation\n",
    "rf_random = RandomizedSearchCV(estimator=rf, param_distributions=random_grid, n_iter=100, cv=10, verbose=2, \n",
    "                               random_state=seed, n_jobs=-1)\n",
    "\n",
    "# treinando o modelo com busca aleatória\n",
    "rf_random.fit(X,y)"
   ]
  },
  {
   "cell_type": "code",
   "execution_count": 86,
   "metadata": {},
   "outputs": [],
   "source": [
    "def evaluate(model, test_features, test_labels):\n",
    "    predictions = model.predict(test_features)\n",
    "    errors = abs(predictions - test_labels)\n",
    "    mape = 100 * np.mean(errors / test_labels)\n",
    "    accuracy = 100 - mape\n",
    "    print('Model Performance')\n",
    "    print('Average Error: {:0.4f} degrees.'.format(np.mean(errors)))\n",
    "    print('Accuracy = {:0.2f}%.'.format(accuracy))\n",
    "    \n",
    "    return accuracy"
   ]
  },
  {
   "cell_type": "code",
   "execution_count": 87,
   "metadata": {},
   "outputs": [
    {
     "name": "stdout",
     "output_type": "stream",
     "text": [
      "Model Performance\n",
      "Average Error: 0.0181 degrees.\n",
      "Accuracy = 99.76%.\n"
     ]
    }
   ],
   "source": [
    "base_accuracy = evaluate(rfr, X_train, y_train)"
   ]
  },
  {
   "cell_type": "code",
   "execution_count": 88,
   "metadata": {},
   "outputs": [
    {
     "name": "stdout",
     "output_type": "stream",
     "text": [
      "Model Performance\n",
      "Average Error: 0.0158 degrees.\n",
      "Accuracy = 99.79%.\n"
     ]
    }
   ],
   "source": [
    "best_random = rf_random.best_estimator_\n",
    "random_accuracy = evaluate(best_random, X_train, y_train)"
   ]
  },
  {
   "cell_type": "code",
   "execution_count": 89,
   "metadata": {},
   "outputs": [
    {
     "name": "stdout",
     "output_type": "stream",
     "text": [
      "Improvement of 0.03%.\n"
     ]
    }
   ],
   "source": [
    "print('Improvement of {:0.2f}%.'.format( 100 * (random_accuracy - base_accuracy) / base_accuracy))"
   ]
  },
  {
   "cell_type": "markdown",
   "metadata": {},
   "source": [
    "Tivemos uma melhora de 0.03%, dependendo da quantidade de dados, esse valor pode ser relevante, no nosso caso que temos poucos dados, não é muito significativo."
   ]
  },
  {
   "cell_type": "markdown",
   "metadata": {},
   "source": [
    "Como a acurária está podemos estar correndo o risco de overfitting, como já encontramos os melhores parâmetros para prevermos o valor dos alugueis com um mínimo de erro, vou usar esses parâmetros para os dados de treino e verificar o quanto está performando."
   ]
  },
  {
   "cell_type": "markdown",
   "metadata": {},
   "source": [
    "# Rodando o modelo nos dados de teste"
   ]
  },
  {
   "cell_type": "markdown",
   "metadata": {},
   "source": [
    "Os dados de teste são um conjunto de dados no qual fica separado, aguardando para quando os parâmetros forem ajustados nos dados de treino e validação, utilizamos para rodar o modelo tomando o cuidado para não vazar nenhuma estatística do \"futuro\" ou seja, o modelo não pode ter visto informações dos dados de teste."
   ]
  },
  {
   "cell_type": "markdown",
   "metadata": {},
   "source": [
    "## Analisando os dados de teste e ajustando com base nos dados de treino"
   ]
  },
  {
   "cell_type": "code",
   "execution_count": 29,
   "metadata": {},
   "outputs": [
    {
     "data": {
      "text/plain": [
       "city               0\n",
       "area               0\n",
       "rooms              0\n",
       "bathroom           0\n",
       "parking_spaces     0\n",
       "floor              0\n",
       "animal            16\n",
       "furniture          0\n",
       "hoa               12\n",
       "rent_amount        0\n",
       "property_tax       0\n",
       "fire_insurance     9\n",
       "total              0\n",
       "dtype: int64"
      ]
     },
     "execution_count": 29,
     "metadata": {},
     "output_type": "execute_result"
    }
   ],
   "source": [
    "df_test.isnull().sum()"
   ]
  },
  {
   "cell_type": "code",
   "execution_count": 30,
   "metadata": {},
   "outputs": [],
   "source": [
    "# como cidade é minha referência\n",
    "# vou criar uma lista para passar em um loop\n",
    "cidades = df_test.city.unique()\n",
    "\n",
    "for i in cidades:\n",
    "\n",
    "    df_test.loc[df_test.city==i, 'animal'] = imp_animal.transform(np.array(df_test[df_test.city==i]['animal']).reshape(-1,1))\n",
    "    \n",
    "    \n",
    "for i in cidades:\n",
    "\n",
    "    df_test.loc[df_test.city==i, 'hoa'] = imp_hoa.transform(np.array(df_test[df_test.city==i]['hoa']).reshape(-1,1))\n",
    "    \n",
    "    \n",
    "for i in cidades:\n",
    "\n",
    "    df_test.loc[df_test.city==i, 'fire_insurance'] = imp_fireInsur.transform(np.array(df_test[df_test.city==i]['fire_insurance']).reshape(-1,1))"
   ]
  },
  {
   "cell_type": "code",
   "execution_count": 31,
   "metadata": {},
   "outputs": [],
   "source": [
    "# a feature \"floor\" já está no formato, porém está como 'str' por causa de um '-'\n",
    "# vou alterar o '-' para 0\n",
    "\n",
    "df_test.floor = df_test.floor.replace('-',0)\n",
    "\n",
    "\n",
    "\n",
    "# para a primeira feature vou utilizar o label encoder\n",
    "# ATENÇÃO: para esses dados, utilizamos o transform e não o Fit - Transform.\n",
    "df_test['city'] = le.transform(df_test.city)\n",
    "\n",
    "\n",
    "# nesse caso vou fazer algo mais simples\n",
    "df_test['animal'] = df_test.animal.map({'acept':1, 'not acept':0})\n",
    "df_test['furniture'] = df_test.furniture.map({'furnished':1, 'not furnished':0})"
   ]
  },
  {
   "cell_type": "code",
   "execution_count": 32,
   "metadata": {},
   "outputs": [],
   "source": [
    "df_test['rent_amount'] = np.log1p(df_test.rent_amount)"
   ]
  },
  {
   "cell_type": "code",
   "execution_count": 33,
   "metadata": {},
   "outputs": [],
   "source": [
    "X_test = df_test.drop(['rent_amount', 'total'], axis=1)\n",
    "y_test = df_test['rent_amount']"
   ]
  },
  {
   "cell_type": "code",
   "execution_count": 74,
   "metadata": {},
   "outputs": [
    {
     "data": {
      "text/plain": [
       "array([[7.82444593, 7.55013534, 7.60140233, ..., 6.90875478, 7.97281078,\n",
       "        6.80350526]])"
      ]
     },
     "execution_count": 74,
     "metadata": {},
     "output_type": "execute_result"
    }
   ],
   "source": [
    "y_test"
   ]
  },
  {
   "cell_type": "code",
   "execution_count": 81,
   "metadata": {},
   "outputs": [
    {
     "name": "stdout",
     "output_type": "stream",
     "text": [
      "Rodando o modelo com os melhores parâmetros, nos dados de treino:\n",
      "\n",
      "Model Performance\n",
      "Average Error: 0.0158 degrees.\n",
      "Accuracy = 99.79%.\n",
      "--------------------------------------------------------------------\n",
      "\n",
      "Rodando o modelo com os melhores parâmetros, nos dados de teste:\n",
      "\n",
      "Model Performance\n",
      "Average Error: 0.0292 degrees.\n",
      "Accuracy = 99.62%.\n",
      "--------------------------------------------------------------------\n",
      "\n",
      "Comparando os resultados:\n",
      "\n",
      "Improvement of -0.17%.\n"
     ]
    }
   ],
   "source": [
    "print('Rodando o modelo com os melhores parâmetros, nos dados de treino:\\n')\n",
    "base_accuracy = evaluate(best_random, X_train, y_train)\n",
    "print('--------------------------------------------------------------------\\n')\n",
    "print('Rodando o modelo com os melhores parâmetros, nos dados de teste:\\n')\n",
    "random_accuracy = evaluate(best_random, X_test, y_test)\n",
    "print('--------------------------------------------------------------------\\n')\n",
    "print('Comparando os resultados:\\n')\n",
    "print('Improvement of {:0.2f}%.'.format( 100 * (random_accuracy - base_accuracy) / base_accuracy))"
   ]
  },
  {
   "cell_type": "markdown",
   "metadata": {},
   "source": [
    "Podemos analisar os primeiros 50 resultados (pode ser qualquer valor), comparando valor real dos dados de teste e o valor previsto pelo modelo."
   ]
  },
  {
   "cell_type": "code",
   "execution_count": 92,
   "metadata": {
    "scrolled": false
   },
   "outputs": [
    {
     "name": "stdout",
     "output_type": "stream",
     "text": [
      "MAE: 0.02915153822957319\n",
      "RMSE: 0.010391702246885586\n",
      "R^2: 0.98286489147794\n"
     ]
    },
    {
     "data": {
      "image/png": "[encoded data removed]",
      "text/plain": [
       "<Figure size 1152x576 with 1 Axes>"
      ]
     },
     "metadata": {
      "needs_background": "light"
     },
     "output_type": "display_data"
    }
   ],
   "source": [
    "# utilizando os dados de teste com os melhores parâmetros para Random Forest com esses dados\n",
    "# visualizando os primeiros 50 dados comparando o real com o previsto pelo modelo\n",
    "y_pred = best_random.predict(X_test)\n",
    "print(f'MAE: {mean_absolute_error(y_test, y_pred)}')\n",
    "print(f'RMSE: {mean_squared_error(y_test, y_pred)}')\n",
    "print(f'R^2: {r2_score(y_test, y_pred)}')\n",
    "\n",
    "y_test = y_test.values.reshape(1,2139)\n",
    "df_verify = pd.DataFrame({'Actual': y_test.flatten(), 'Predicted': y_pred.flatten()})\n",
    "\n",
    "df1 = df_verify.head(50)\n",
    "df1.plot(kind='bar',figsize=(16,8))\n",
    "plt.grid(which='major', linestyle='-', linewidth='0.5', color='green')\n",
    "plt.grid(which='minor', linestyle=':', linewidth='0.5', color='black')\n",
    "plt.show()"
   ]
  },
  {
   "cell_type": "markdown",
   "metadata": {},
   "source": [
    "# Conclusão"
   ]
  },
  {
   "cell_type": "markdown",
   "metadata": {},
   "source": [
    "Neste caso, os dados eram mais simples e com poucos dados missing, após uma **análise exploratória** e escolher substituir os **dados missing com base em alguns insights** e **converter algumas features**, quis testar primeiro com todos os dados e já consegui ter uma boa acurácia com esses dados, em 4 modelos testados. Resolvi seguir em frente sem remover nenhuma feature e **sabendo do risco de overfitting** com esse resultado, selecionei a Random Forest e defini alguns principais parâmetros, conforme artigos e papers, para rodar com o **RandomGridCV** para encontrar os melhores parâmetros. testando os melhores parâmetros e comparando com os dados de treino e validação, tivemos uma **melhoria de 0,04%**. Com esses parâmetros selecionados pelo modelo, **rodei os dados de teste** (que o meu modelo treinado ainda não tinha visto) e na predição, comparando com os dados de treino, **piorou 0.17%, ou seja, menos de 1%** e isso é muito bom.\n",
    "\n",
    "**Colocaria este modelo em produção e acompanharia o resultado. Mesmo tendo um resultado excelente no ambiente de desenvolvimento, na prática nem sempre teremos o mesmo resultado. Após o acompanhamento faria os devidos ajustes.**\n",
    "\n",
    "**Observação:** eu tinha um conjunto que em uma das primeiras atividades foi separar os dados em treino e teste, com uma proporção de 80% e 20% respectivamente, nos dados de treino (após a EDA e alguns insigts), separo os dados de treino e validação para rodar os modelos e ajustar os parâmetros, após estar seguro do resultado e escolha. Utilizo os dados de treino, que será o mais próximo do ambiente de Produção."
   ]
  },
  {
   "cell_type": "markdown",
   "metadata": {},
   "source": [
    "# Salvando o modelo treinado para deploy ou usar mais tarde"
   ]
  },
  {
   "cell_type": "code",
   "execution_count": 93,
   "metadata": {},
   "outputs": [],
   "source": [
    "import joblib"
   ]
  },
  {
   "cell_type": "code",
   "execution_count": 97,
   "metadata": {},
   "outputs": [
    {
     "data": {
      "text/plain": [
       "['randomForest_bestParams.sav']"
      ]
     },
     "execution_count": 97,
     "metadata": {},
     "output_type": "execute_result"
    }
   ],
   "source": [
    "# salvando o modelo no disco\n",
    "filename = 'randomForest_bestParams.sav'\n",
    "joblib.dump(model, filename)"
   ]
  },
  {
   "cell_type": "code",
   "execution_count": 98,
   "metadata": {},
   "outputs": [
    {
     "name": "stdout",
     "output_type": "stream",
     "text": [
      "0.9788771585555849\n"
     ]
    }
   ],
   "source": [
    "# algum tempo depois...\n",
    "\n",
    "# vou definir somente o y_test novamente, porque para visulizar graficamente (barras), o formato foi alterado\n",
    "y_test = df_test['rent_amount']\n",
    "\n",
    "# carregando o modelo do disco para testar\n",
    "loaded_model = joblib.load(filename)\n",
    "result = loaded_model.score(X_test, y_test)\n",
    "print(result)"
   ]
  },
  {
   "cell_type": "code",
   "execution_count": null,
   "metadata": {},
   "outputs": [],
   "source": []
  }
 ],
 "metadata": {
  "kernelspec": {
   "display_name": "Python 3",
   "language": "python",
   "name": "python3"
  },
  "language_info": {
   "codemirror_mode": {
    "name": "ipython",
    "version": 3
   },
   "file_extension": ".py",
   "mimetype": "text/x-python",
   "name": "python",
   "nbconvert_exporter": "python",
   "pygments_lexer": "ipython3",
   "version": "3.7.4"
  }
 },
 "nbformat": 4,
 "nbformat_minor": 2
}
